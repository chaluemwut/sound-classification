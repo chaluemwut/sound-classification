{
 "cells": [
  {
   "cell_type": "code",
   "execution_count": 1,
   "metadata": {},
   "outputs": [
    {
     "name": "stdout",
     "output_type": "stream",
     "text": [
      "192000\n",
      "torch.Size([1, 25565])\n",
      "192000\n",
      "torch.Size([1, 32494])\n",
      "192000\n",
      "torch.Size([1, 33124])\n",
      "192000\n",
      "torch.Size([1, 37655])\n",
      "192000\n",
      "torch.Size([1, 35415])\n"
     ]
    }
   ],
   "source": [
    "import torchaudio\n",
    "\n",
    "def load_audio(file_name):\n",
    "    data,sr = torchaudio.load(f\"data/{file_name}.wav\")\n",
    "    return (data, sr)\n",
    "\n",
    "def process():\n",
    "    for i in range(1, 6):\n",
    "        data1, sr1 = load_audio(f\"1_{i}\")        \n",
    "        t1 = torchaudio.transforms.Resample(sr1, 48000)\n",
    "        waveform1 = t1(data1)\n",
    "        resize_same_shape((data1, sr1), 4000) \n",
    "\n",
    "        data2, sr2 = load_audio(f\"2_{i}\")\n",
    "        t2 = torchaudio.transforms.Resample(sr2, 48000)\n",
    "        waveform2 = t2(data2)\n",
    "        print(waveform2.shape)\n",
    "\n",
    "def resize_same_shape(aud, max_ms):\n",
    "    sig, sr = aud\n",
    "    num_rows, sig_len = sig.shape\n",
    "    max_len = sr//1000 * max_ms\n",
    "    print(max_len)\n",
    "    if sig_len > max_len:\n",
    "        pass\n",
    "    else:\n",
    "        pass\n",
    "\n",
    "\n",
    "\n",
    "\n",
    "process()\n"
   ]
  },
  {
   "cell_type": "markdown",
   "metadata": {},
   "source": [
    "https://towardsdatascience.com/audio-deep-learning-made-simple-sound-classification-step-by-step-cebc936bbe5"
   ]
  }
 ],
 "metadata": {
  "kernelspec": {
   "display_name": ".venv",
   "language": "python",
   "name": "python3"
  },
  "language_info": {
   "codemirror_mode": {
    "name": "ipython",
    "version": 3
   },
   "file_extension": ".py",
   "mimetype": "text/x-python",
   "name": "python",
   "nbconvert_exporter": "python",
   "pygments_lexer": "ipython3",
   "version": "3.12.2"
  }
 },
 "nbformat": 4,
 "nbformat_minor": 2
}
